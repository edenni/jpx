{
 "cells": [
  {
   "cell_type": "code",
   "execution_count": 2,
   "metadata": {},
   "outputs": [
    {
     "name": "stderr",
     "output_type": "stream",
     "text": [
      "/Users/tianjia.a.ni/workspace/jpx/src/data.py:15: DtypeWarning: Columns (14,15,16,17,18,19,42,44) have mixed types. Specify dtype option on import or set low_memory=False.\n",
      "  dfs[name] = pd.read_csv(path)\n"
     ]
    }
   ],
   "source": [
    "import numpy as np\n",
    "import pandas as pd\n",
    "import lightgbm as lgb\n",
    "\n",
    "from data import read_data\n",
    "from fe import preprocess, create_features\n",
    "from utils import PurgedGroupTimeSeriesSplit\n",
    "\n",
    "file_paths = {\n",
    "    'price': '../input/jpx-tokyo-stock-exchange-prediction/train_files/stock_prices.csv',\n",
    "    'list': '../input/jpx-tokyo-stock-exchange-prediction/stock_list.csv',\n",
    "    'financial': '../input/jpx-tokyo-stock-exchange-prediction/train_files/financials.csv'\n",
    "}\n",
    "\n",
    "dfs = create_features(\n",
    "    preprocess(read_data(file_paths))\n",
    ")\n",
    "\n",
    "df = dfs['price'].merge(dfs['financial'], on=['SecuritiesCode', 'CurrentPeriodEndDate'], how='left')"
   ]
  },
  {
   "cell_type": "code",
   "execution_count": 11,
   "metadata": {},
   "outputs": [
    {
     "data": {
      "text/plain": [
       "['RowId',\n",
       " 'Date_x',\n",
       " 'SecuritiesCode',\n",
       " 'Open',\n",
       " 'High',\n",
       " 'Low',\n",
       " 'Close',\n",
       " 'Volume',\n",
       " 'AdjustmentFactor',\n",
       " 'ExpectedDividend',\n",
       " 'SupervisionFlag',\n",
       " 'Target',\n",
       " 'diff_high_low',\n",
       " 'feat_pct20_Close',\n",
       " 'feat_vl20_Close',\n",
       " 'feat_rmr20_Close',\n",
       " 'feat_wd20',\n",
       " 'feat_pct40_Close',\n",
       " 'feat_vl40_Close',\n",
       " 'feat_rmr40_Close',\n",
       " 'feat_wd40',\n",
       " 'feat_pct60_Close',\n",
       " 'feat_vl60_Close',\n",
       " 'feat_rmr60_Close',\n",
       " 'feat_wd60',\n",
       " 'feat_pct120_Close',\n",
       " 'feat_vl120_Close',\n",
       " 'feat_rmr120_Close',\n",
       " 'feat_wd120',\n",
       " 'CumulativeAdjustmentFactor',\n",
       " 'AdjustedClose',\n",
       " 'CurrentPeriodEndDate',\n",
       " 'DisclosureNumber',\n",
       " 'DateCode',\n",
       " 'Date_y',\n",
       " 'DisclosedDate',\n",
       " 'DisclosedTime',\n",
       " 'DisclosedUnixTime',\n",
       " 'TypeOfDocument',\n",
       " 'TypeOfCurrentPeriod',\n",
       " 'CurrentFiscalYearStartDate',\n",
       " 'CurrentFiscalYearEndDate',\n",
       " 'NetSales',\n",
       " 'OperatingProfit',\n",
       " 'OrdinaryProfit',\n",
       " 'Profit',\n",
       " 'EarningsPerShare',\n",
       " 'TotalAssets',\n",
       " 'Equity',\n",
       " 'EquityToAssetRatio',\n",
       " 'BookValuePerShare',\n",
       " 'ResultDividendPerShare1stQuarter',\n",
       " 'ResultDividendPerShare2ndQuarter',\n",
       " 'ResultDividendPerShare3rdQuarter',\n",
       " 'ResultDividendPerShareFiscalYearEnd',\n",
       " 'ResultDividendPerShareAnnual',\n",
       " 'ForecastDividendPerShare1stQuarter',\n",
       " 'ForecastDividendPerShare2ndQuarter',\n",
       " 'ForecastDividendPerShare3rdQuarter',\n",
       " 'ForecastDividendPerShareFiscalYearEnd',\n",
       " 'ForecastDividendPerShareAnnual',\n",
       " 'ForecastNetSales',\n",
       " 'ForecastOperatingProfit',\n",
       " 'ForecastOrdinaryProfit',\n",
       " 'ForecastProfit',\n",
       " 'ForecastEarningsPerShare',\n",
       " 'ApplyingOfSpecificAccountingOfTheQuarterlyFinancialStatements',\n",
       " 'MaterialChangesInSubsidiaries',\n",
       " 'ChangesBasedOnRevisionsOfAccountingStandard',\n",
       " 'ChangesOtherThanOnesBasedOnRevisionsOfAccountingStandard',\n",
       " 'ChangesInAccountingEstimates',\n",
       " 'RetrospectiveRestatement',\n",
       " 'NumberOfIssuedAndOutstandingSharesAtTheEndOfFiscalYearIncludingTreasuryStock',\n",
       " 'NumberOfTreasuryStockAtTheEndOfFiscalYear',\n",
       " 'AverageNumberOfShares',\n",
       " 'quarter',\n",
       " 'FiscalYear',\n",
       " 'fp_month',\n",
       " 'quarter_span',\n",
       " 'year_span',\n",
       " 'diff_NetSales',\n",
       " 'diff_Profit',\n",
       " 'diff_OperatingProfit',\n",
       " 'diff_OrdinaryProfit',\n",
       " 'ma_NetSales',\n",
       " 'ma_Profit',\n",
       " 'ma_OperatingProfit',\n",
       " 'ma_OrdinaryProfit',\n",
       " 'feat_ratio_TotalAssets',\n",
       " 'feat_ratio_Equity',\n",
       " 'feat_ratio_diff_NetSales',\n",
       " 'feat_ratio_diff_Profit',\n",
       " 'feat_ratio_diff_OperatingProfit',\n",
       " 'feat_ratio_diff_OrdinaryProfit',\n",
       " 'feat_ratio_ma_NetSales',\n",
       " 'feat_ratio_ma_Profit',\n",
       " 'feat_ratio_ma_OperatingProfit',\n",
       " 'feat_ratio_ma_OrdinaryProfit',\n",
       " 'feat_ratio_NetSales',\n",
       " 'feat_ratio_Profit',\n",
       " 'feat_ratio_OperatingProfit',\n",
       " 'feat_ratio_OrdinaryProfit']"
      ]
     },
     "execution_count": 11,
     "metadata": {},
     "output_type": "execute_result"
    }
   ],
   "source": [
    "[col for col in df.columns]"
   ]
  },
  {
   "cell_type": "code",
   "execution_count": 14,
   "metadata": {},
   "outputs": [],
   "source": [
    "df = df.drop('Date_y', axis=1).rename(columns={'Date_x': 'Date'}, )"
   ]
  },
  {
   "cell_type": "code",
   "execution_count": null,
   "metadata": {},
   "outputs": [],
   "source": []
  }
 ],
 "metadata": {
  "interpreter": {
   "hash": "8826b2253ec6219a3f134608ce273d7f97042016cc8aa3e655eaf6db56588878"
  },
  "kernelspec": {
   "display_name": "Python 3.9.12 ('jpx')",
   "language": "python",
   "name": "python3"
  },
  "language_info": {
   "codemirror_mode": {
    "name": "ipython",
    "version": 3
   },
   "file_extension": ".py",
   "mimetype": "text/x-python",
   "name": "python",
   "nbconvert_exporter": "python",
   "pygments_lexer": "ipython3",
   "version": "3.9.12"
  },
  "orig_nbformat": 4
 },
 "nbformat": 4,
 "nbformat_minor": 2
}
