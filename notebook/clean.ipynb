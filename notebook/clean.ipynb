{
 "cells": [
  {
   "cell_type": "code",
   "execution_count": 1,
   "metadata": {},
   "outputs": [],
   "source": [
    "import numpy as np\n",
    "import pandas as pd"
   ]
  },
  {
   "cell_type": "code",
   "execution_count": 14,
   "metadata": {},
   "outputs": [
    {
     "name": "stderr",
     "output_type": "stream",
     "text": [
      "/var/folders/1k/wj0bvnz165sfyvwsqlfxwfmw6bk41g/T/ipykernel_61036/1116028146.py:2: DtypeWarning: Columns (14,15,16,17,18,19,42,44) have mixed types. Specify dtype option on import or set low_memory=False.\n",
      "  df_financial = pd.read_csv('../input/jpx-tokyo-stock-exchange-prediction/train_files/financials.csv')\n"
     ]
    }
   ],
   "source": [
    "df_price = pd.read_csv('../input/jpx-tokyo-stock-exchange-prediction/train_files/stock_prices.csv')\n",
    "df_financial = pd.read_csv('../input/jpx-tokyo-stock-exchange-prediction/train_files/financials.csv')\n",
    "df_stocklist = pd.read_csv('../input/jpx-tokyo-stock-exchange-prediction/stock_list.csv')"
   ]
  },
  {
   "cell_type": "code",
   "execution_count": 7,
   "metadata": {},
   "outputs": [
    {
     "name": "stdout",
     "output_type": "stream",
     "text": [
      "<class 'pandas.core.frame.DataFrame'>\n",
      "RangeIndex: 1048575 entries, 0 to 1048574\n",
      "Data columns (total 12 columns):\n",
      " #   Column            Non-Null Count    Dtype  \n",
      "---  ------            --------------    -----  \n",
      " 0   RowId             1048575 non-null  object \n",
      " 1   Date              1048575 non-null  object \n",
      " 2   SecuritiesCode    1048575 non-null  int64  \n",
      " 3   Open              1046070 non-null  float64\n",
      " 4   High              1046070 non-null  float64\n",
      " 5   Low               1046070 non-null  float64\n",
      " 6   Close             1046070 non-null  float64\n",
      " 7   Volume            1048575 non-null  int64  \n",
      " 8   AdjustmentFactor  1048575 non-null  float64\n",
      " 9   ExpectedDividend  1048575 non-null  float64\n",
      " 10  SupervisionFlag   1048575 non-null  bool   \n",
      " 11  Target            1048339 non-null  float64\n",
      "dtypes: bool(1), float64(7), int64(2), object(2)\n",
      "memory usage: 89.0+ MB\n"
     ]
    }
   ],
   "source": [
    "df_price.info()"
   ]
  },
  {
   "cell_type": "code",
   "execution_count": 6,
   "metadata": {},
   "outputs": [],
   "source": [
    "df_price.ExpectedDividend.fillna(0, inplace=True)"
   ]
  },
  {
   "cell_type": "code",
   "execution_count": 16,
   "metadata": {},
   "outputs": [],
   "source": [
    "df_financial.replace('－', 0.0, inplace=True)\n",
    "df_financial.iloc[:, 12:] = df_financial.iloc[:, 12:].astype('float32').fillna(0)"
   ]
  },
  {
   "cell_type": "code",
   "execution_count": 17,
   "metadata": {},
   "outputs": [
    {
     "name": "stdout",
     "output_type": "stream",
     "text": [
      "<class 'pandas.core.frame.DataFrame'>\n",
      "RangeIndex: 92956 entries, 0 to 92955\n",
      "Data columns (total 45 columns):\n",
      " #   Column                                                                        Non-Null Count  Dtype  \n",
      "---  ------                                                                        --------------  -----  \n",
      " 0   DisclosureNumber                                                              92956 non-null  float64\n",
      " 1   DateCode                                                                      92956 non-null  object \n",
      " 2   Date                                                                          92956 non-null  object \n",
      " 3   SecuritiesCode                                                                92956 non-null  float64\n",
      " 4   DisclosedDate                                                                 92956 non-null  object \n",
      " 5   DisclosedTime                                                                 92956 non-null  object \n",
      " 6   DisclosedUnixTime                                                             92956 non-null  float64\n",
      " 7   TypeOfDocument                                                                92956 non-null  object \n",
      " 8   CurrentPeriodEndDate                                                          92956 non-null  object \n",
      " 9   TypeOfCurrentPeriod                                                           92956 non-null  object \n",
      " 10  CurrentFiscalYearStartDate                                                    92956 non-null  object \n",
      " 11  CurrentFiscalYearEndDate                                                      92956 non-null  object \n",
      " 12  NetSales                                                                      92956 non-null  float32\n",
      " 13  OperatingProfit                                                               92956 non-null  float32\n",
      " 14  OrdinaryProfit                                                                92956 non-null  float32\n",
      " 15  Profit                                                                        92956 non-null  float32\n",
      " 16  EarningsPerShare                                                              92956 non-null  float32\n",
      " 17  TotalAssets                                                                   92956 non-null  float32\n",
      " 18  Equity                                                                        92956 non-null  float32\n",
      " 19  EquityToAssetRatio                                                            92956 non-null  float32\n",
      " 20  BookValuePerShare                                                             92956 non-null  float32\n",
      " 21  ResultDividendPerShare1stQuarter                                              92956 non-null  float32\n",
      " 22  ResultDividendPerShare2ndQuarter                                              92956 non-null  float32\n",
      " 23  ResultDividendPerShare3rdQuarter                                              92956 non-null  float32\n",
      " 24  ResultDividendPerShareFiscalYearEnd                                           92956 non-null  float32\n",
      " 25  ResultDividendPerShareAnnual                                                  92956 non-null  float32\n",
      " 26  ForecastDividendPerShare1stQuarter                                            92956 non-null  float32\n",
      " 27  ForecastDividendPerShare2ndQuarter                                            92956 non-null  float32\n",
      " 28  ForecastDividendPerShare3rdQuarter                                            92956 non-null  float32\n",
      " 29  ForecastDividendPerShareFiscalYearEnd                                         92956 non-null  float32\n",
      " 30  ForecastDividendPerShareAnnual                                                92956 non-null  float32\n",
      " 31  ForecastNetSales                                                              92956 non-null  float32\n",
      " 32  ForecastOperatingProfit                                                       92956 non-null  float32\n",
      " 33  ForecastOrdinaryProfit                                                        92956 non-null  float32\n",
      " 34  ForecastProfit                                                                92956 non-null  float32\n",
      " 35  ForecastEarningsPerShare                                                      92956 non-null  float32\n",
      " 36  ApplyingOfSpecificAccountingOfTheQuarterlyFinancialStatements                 92956 non-null  float32\n",
      " 37  MaterialChangesInSubsidiaries                                                 92956 non-null  float32\n",
      " 38  ChangesBasedOnRevisionsOfAccountingStandard                                   92956 non-null  float32\n",
      " 39  ChangesOtherThanOnesBasedOnRevisionsOfAccountingStandard                      92956 non-null  float32\n",
      " 40  ChangesInAccountingEstimates                                                  92956 non-null  float32\n",
      " 41  RetrospectiveRestatement                                                      92956 non-null  float32\n",
      " 42  NumberOfIssuedAndOutstandingSharesAtTheEndOfFiscalYearIncludingTreasuryStock  92956 non-null  float32\n",
      " 43  NumberOfTreasuryStockAtTheEndOfFiscalYear                                     92956 non-null  float32\n",
      " 44  AverageNumberOfShares                                                         92956 non-null  float32\n",
      "dtypes: float32(33), float64(3), object(9)\n",
      "memory usage: 20.2+ MB\n"
     ]
    }
   ],
   "source": [
    "df_financial.info()"
   ]
  },
  {
   "cell_type": "code",
   "execution_count": null,
   "metadata": {},
   "outputs": [],
   "source": []
  }
 ],
 "metadata": {
  "interpreter": {
   "hash": "8826b2253ec6219a3f134608ce273d7f97042016cc8aa3e655eaf6db56588878"
  },
  "kernelspec": {
   "display_name": "Python 3.9.12 ('jpx')",
   "language": "python",
   "name": "python3"
  },
  "language_info": {
   "codemirror_mode": {
    "name": "ipython",
    "version": 3
   },
   "file_extension": ".py",
   "mimetype": "text/x-python",
   "name": "python",
   "nbconvert_exporter": "python",
   "pygments_lexer": "ipython3",
   "version": "3.9.12"
  },
  "orig_nbformat": 4
 },
 "nbformat": 4,
 "nbformat_minor": 2
}
