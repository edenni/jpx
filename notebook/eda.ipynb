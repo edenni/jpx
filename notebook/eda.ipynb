{
 "cells": [
  {
   "cell_type": "code",
   "execution_count": 29,
   "metadata": {},
   "outputs": [],
   "source": [
    "from decimal import ROUND_HALF_UP, Decimal\n",
    "\n",
    "import numpy as np\n",
    "import pandas as pd"
   ]
  },
  {
   "cell_type": "code",
   "execution_count": 3,
   "metadata": {},
   "outputs": [
    {
     "name": "stderr",
     "output_type": "stream",
     "text": [
      "C:\\Users\\ntj_0\\AppData\\Local\\Temp\\ipykernel_16888\\3882798696.py:2: DtypeWarning: Columns (14,15,16,17,18,19,42,44) have mixed types. Specify dtype option on import or set low_memory=False.\n",
      "  df_financial = pd.read_csv('../input/train_files/financials.csv')\n"
     ]
    }
   ],
   "source": [
    "df_price = pd.read_csv('../input/train_files/stock_prices.csv')\n",
    "df_financial = pd.read_csv('../input/train_files/financials.csv')\n",
    "df_stocklist = pd.read_csv('../input/stock_list.csv')"
   ]
  },
  {
   "cell_type": "code",
   "execution_count": 27,
   "metadata": {},
   "outputs": [],
   "source": [
    "def adjust_price(price):\n",
    "    \"\"\"\n",
    "    Args:\n",
    "        price (pd.DataFrame)  : pd.DataFrame include stock_price\n",
    "    Returns:\n",
    "        price DataFrame (pd.DataFrame): stock_price with generated AdjustedClose\n",
    "    \"\"\"\n",
    "    # transform Date column into datetime\n",
    "    price.loc[: ,\"Date\"] = pd.to_datetime(price.loc[: ,\"Date\"], format=\"%Y-%m-%d\")\n",
    "\n",
    "    def generate_adjusted_close(df):\n",
    "        \n",
    "        # sort data to generate CumulativeAdjustmentFactor\n",
    "        df = df.sort_values(\"Date\", ascending=False)\n",
    "        # generate CumulativeAdjustmentFactor\n",
    "        df.loc[:, \"CumulativeAdjustmentFactor\"] = df[\"AdjustmentFactor\"].cumprod()\n",
    "        # generate AdjustedClose\n",
    "        df.loc[:, \"AdjustedClose\"] = (\n",
    "            df[\"CumulativeAdjustmentFactor\"] * df[\"Close\"]\n",
    "        ).map(lambda x: float(\n",
    "            Decimal(str(x)).quantize(Decimal('0.1'), rounding=ROUND_HALF_UP)\n",
    "        ))\n",
    "        # reverse order\n",
    "        df = df.sort_values(\"Date\")\n",
    "        # to fill AdjustedClose, replace 0 into np.nan\n",
    "        df.loc[df[\"AdjustedClose\"] == 0, \"AdjustedClose\"] = np.nan\n",
    "        # forward fill AdjustedClose\n",
    "        df.loc[:, \"AdjustedClose\"] = df.loc[:, \"AdjustedClose\"].ffill()\n",
    "        return df\n",
    "\n",
    "    # generate AdjustedClose\n",
    "    price = price.sort_values([\"SecuritiesCode\", \"Date\"])\n",
    "    price = price.groupby(\"SecuritiesCode\").apply(generate_adjusted_close).reset_index(drop=True)\n",
    "\n",
    "    # price.set_index(\"Date\", inplace=True)\n",
    "    return price"
   ]
  },
  {
   "cell_type": "code",
   "execution_count": 12,
   "metadata": {},
   "outputs": [],
   "source": [
    "price_cols = ['Close']\n",
    "\n",
    "df_price[price_cols] = df_price[price_cols].replace(0.0, np.nan)\n",
    "\n",
    "# add high/low\n",
    "df_price[\"diff_high_low\"] = (\n",
    "    np.log1p(df_price[\"High\"]) / np.log1p(df_price[\"Low\"])\n",
    "    ).astype(\"float16\")\n",
    "    \n",
    "log_price = df_price[price_cols].apply(np.log1p)\n",
    "diff_log_price = log_price.diff()\n",
    "diff_log_price['SecuritiesCode'] = df_price.SecuritiesCode\n",
    "\n",
    "# add new features\n",
    "fea_price = [df_price]\n",
    "\n",
    "group_code = df_price.groupby(\"SecuritiesCode\")\n",
    "price_gb_code = df_price.groupby(\"SecuritiesCode\")[price_cols]\n",
    "diff_log_price_gb_code = diff_log_price.groupby(\"SecuritiesCode\")[price_cols]\n",
    "\n",
    "for span in [20, 40, 60, 120]:\n",
    "    pct_change = (\n",
    "        price_gb_code.pct_change(span)\n",
    "            .add_prefix(f\"feat_pct{span}_\")\n",
    "            .astype('float16')\n",
    "    )\n",
    "    volatility = (\n",
    "        diff_log_price_gb_code.rolling(span, min_periods=1)\n",
    "            .std()\n",
    "            .reset_index(\"SecuritiesCode\", drop=True)\n",
    "    )\n",
    "    volatility = (\n",
    "        (log_price / volatility).add_prefix(f\"feat_vl{span}_\")\n",
    "            .astype('float16')\n",
    "    )\n",
    "    ma = (\n",
    "        price_gb_code.rolling(span, min_periods=1)\n",
    "            .mean()\n",
    "            .reset_index(\"SecuritiesCode\", drop=True)\n",
    "    )\n",
    "    ma = (df_price[price_cols] / ma).add_prefix(f\"feat_rmr{span}_\").astype('float16')\n",
    "    diff_roll = (\n",
    "        group_code.diff_high_low\n",
    "            .rolling(span, min_periods=1)\n",
    "            .mean().\n",
    "            rename(f\"feat_wd{span}\")\n",
    "            .reset_index(\"SecuritiesCode\", drop=True)\n",
    "            .astype('float16')\n",
    "    )\n",
    "    fea_price += [pct_change, volatility, ma, diff_roll]\n",
    "\n",
    "df_price_fe = pd.concat(fea_price, axis=1)\n",
    "df_price_fe = adjust_price(df_price_fe) # add adjusted close value\n"
   ]
  },
  {
   "cell_type": "code",
   "execution_count": null,
   "metadata": {},
   "outputs": [],
   "source": []
  }
 ],
 "metadata": {
  "interpreter": {
   "hash": "528daaca3a9eeaa367aea4ef3a9e412e8d886a8d128b2f41c333176d57184775"
  },
  "kernelspec": {
   "display_name": "Python 3.9.12 ('jpx')",
   "language": "python",
   "name": "python3"
  },
  "language_info": {
   "codemirror_mode": {
    "name": "ipython",
    "version": 3
   },
   "file_extension": ".py",
   "mimetype": "text/x-python",
   "name": "python",
   "nbconvert_exporter": "python",
   "pygments_lexer": "ipython3",
   "version": "3.9.12"
  },
  "orig_nbformat": 4
 },
 "nbformat": 4,
 "nbformat_minor": 2
}
